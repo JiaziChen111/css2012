{
 "metadata": {
  "language": "Julia",
  "name": ""
 },
 "nbformat": 3,
 "nbformat_minor": 0,
 "worksheets": [
  {
   "cells": [
    {
     "cell_type": "code",
     "collapsed": false,
     "input": [
      "x = [1:5]"
     ],
     "language": "python",
     "metadata": {},
     "outputs": [
      {
       "metadata": {},
       "output_type": "pyout",
       "prompt_number": 1,
       "text": [
        "5-element Int64 Array:\n",
        " 1\n",
        " 2\n",
        " 3\n",
        " 4\n",
        " 5"
       ]
      }
     ],
     "prompt_number": 1
    },
    {
     "cell_type": "code",
     "collapsed": false,
     "input": [
      "import PyPlot.plt"
     ],
     "language": "python",
     "metadata": {},
     "outputs": [],
     "prompt_number": 2
    },
    {
     "cell_type": "code",
     "collapsed": false,
     "input": [
      "fig ax = plt.subplots(2,2)"
     ],
     "language": "python",
     "metadata": {},
     "outputs": [
      {
       "ename": "PyError",
       "evalue": "PyError (PyObject_Call) <type 'exceptions.AssertionError'>\nAssertionError()\n  File \"/usr/local/lib/python2.7/site-packages/matplotlib/backend_bases.py\", line 2169, in print_figure\n    bbox_inches = self.figure.get_tightbbox(renderer)\n  File \"/usr/local/lib/python2.7/site-packages/matplotlib/figure.py\", line 1564, in get_tightbbox\n    _bbox = Bbox.union([b for b in bb if b.width != 0 or b.height != 0])\n  File \"/usr/local/lib/python2.7/site-packages/matplotlib/transforms.py\", line 714, in union\n    assert(len(bboxes))\n",
       "output_type": "pyerr",
       "traceback": [
        "PyError (PyObject_Call) <type 'exceptions.AssertionError'>\nAssertionError()\n  File \"/usr/local/lib/python2.7/site-packages/matplotlib/backend_bases.py\", line 2169, in print_figure\n    bbox_inches = self.figure.get_tightbbox(renderer)\n  File \"/usr/local/lib/python2.7/site-packages/matplotlib/figure.py\", line 1564, in get_tightbbox\n    _bbox = Bbox.union([b for b in bb if b.width != 0 or b.height != 0])\n  File \"/usr/local/lib/python2.7/site-packages/matplotlib/transforms.py\", line 714, in union\n    assert(len(bboxes))\n",
        " in pyerr_check at /Users/sglyon/.julia/PyCall/src/exception.jl:58",
        " in pycall at /Users/sglyon/.julia/PyCall/src/PyCall.jl:85",
        " in fn at /Users/sglyon/.julia/PyCall/src/conversions.jl:181",
        " in writemime at /Users/sglyon/.julia/PyPlot/src/PyPlot.jl:122",
        " in sprint at io.jl:421",
        " in reprmime at multimedia.jl:58",
        " in display_dict at /Users/sglyon/.julia/IJulia/src/execute_request.jl:20"
       ]
      }
     ],
     "prompt_number": 3
    },
    {
     "cell_type": "code",
     "collapsed": false,
     "input": [],
     "language": "python",
     "metadata": {},
     "outputs": [
      {
       "ename": "PyError",
       "evalue": "PyError (PyObject_Call) <type 'exceptions.AssertionError'>\nAssertionError()\n  File \"/usr/local/lib/python2.7/site-packages/matplotlib/backend_bases.py\", line 2169, in print_figure\n    bbox_inches = self.figure.get_tightbbox(renderer)\n  File \"/usr/local/lib/python2.7/site-packages/matplotlib/figure.py\", line 1564, in get_tightbbox\n    _bbox = Bbox.union([b for b in bb if b.width != 0 or b.height != 0])\n  File \"/usr/local/lib/python2.7/site-packages/matplotlib/transforms.py\", line 714, in union\n    assert(len(bboxes))\n",
       "output_type": "pyerr",
       "traceback": [
        "PyError (PyObject_Call) <type 'exceptions.AssertionError'>\nAssertionError()\n  File \"/usr/local/lib/python2.7/site-packages/matplotlib/backend_bases.py\", line 2169, in print_figure\n    bbox_inches = self.figure.get_tightbbox(renderer)\n  File \"/usr/local/lib/python2.7/site-packages/matplotlib/figure.py\", line 1564, in get_tightbbox\n    _bbox = Bbox.union([b for b in bb if b.width != 0 or b.height != 0])\n  File \"/usr/local/lib/python2.7/site-packages/matplotlib/transforms.py\", line 714, in union\n    assert(len(bboxes))\n",
        " in pyerr_check at /Users/sglyon/.julia/PyCall/src/exception.jl:58",
        " in pycall at /Users/sglyon/.julia/PyCall/src/PyCall.jl:85",
        " in fn at /Users/sglyon/.julia/PyCall/src/conversions.jl:181",
        " in writemime at /Users/sglyon/.julia/PyPlot/src/PyPlot.jl:122",
        " in sprint at io.jl:421",
        " in reprmime at multimedia.jl:58",
        " in display_dict at /Users/sglyon/.julia/IJulia/src/execute_request.jl:20"
       ]
      }
     ],
     "prompt_number": 4
    },
    {
     "cell_type": "code",
     "collapsed": false,
     "input": [],
     "language": "python",
     "metadata": {},
     "outputs": []
    }
   ],
   "metadata": {}
  }
 ]
}